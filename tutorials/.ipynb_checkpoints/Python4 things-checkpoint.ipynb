{
 "cells": [
  {
   "cell_type": "code",
   "execution_count": 8,
   "id": "45b433c4",
   "metadata": {},
   "outputs": [
    {
     "name": "stdout",
     "output_type": "stream",
     "text": [
      "['friends', 'countrymen', 'me', 'ears']\n"
     ]
    }
   ],
   "source": [
    "my_list = ['friends', 'romans', 'countrymen', 'lend', 'me', 'your', 'ears']\n",
    "# print list from 0 to 7 with step 2\n",
    "print(my_list[0:7:2])"
   ]
  },
  {
   "cell_type": "code",
   "execution_count": 9,
   "id": "2da451f7",
   "metadata": {},
   "outputs": [
    {
     "name": "stdout",
     "output_type": "stream",
     "text": [
      "['ears', 'your', 'me', 'lend', 'countrymen', 'romans', 'friends']\n"
     ]
    }
   ],
   "source": [
    "print(my_list[::-1])"
   ]
  },
  {
   "cell_type": "code",
   "execution_count": 13,
   "id": "cdbc91a7",
   "metadata": {},
   "outputs": [
    {
     "name": "stdout",
     "output_type": "stream",
     "text": [
      "('I', 'have', 30, 'cats')\n"
     ]
    }
   ],
   "source": [
    "my_tuple = ('I', 'have', 30, 'cats')\n",
    "print( my_tuple)"
   ]
  },
  {
   "cell_type": "code",
   "execution_count": 16,
   "id": "0a5dd91d",
   "metadata": {},
   "outputs": [
    {
     "data": {
      "text/plain": [
       "('have', 30)"
      ]
     },
     "execution_count": 16,
     "metadata": {},
     "output_type": "execute_result"
    }
   ],
   "source": [
    "my_tuple[1:3]"
   ]
  },
  {
   "cell_type": "code",
   "execution_count": 17,
   "id": "487a989e",
   "metadata": {},
   "outputs": [
    {
     "name": "stdout",
     "output_type": "stream",
     "text": [
      "('I', 'have', 30, 'cats', 'make', 'that', 50)\n"
     ]
    }
   ],
   "source": [
    "my_other_tuple = ('make', 'that', 50)\n",
    "print (my_tuple + my_other_tuple)"
   ]
  },
  {
   "cell_type": "code",
   "execution_count": 18,
   "id": "53878660",
   "metadata": {},
   "outputs": [
    {
     "name": "stdout",
     "output_type": "stream",
     "text": [
      "make that 50\n"
     ]
    }
   ],
   "source": [
    "str_1, str_2, int_1 = my_other_tuple\n",
    "print (str_1, str_2, int_1)"
   ]
  },
  {
   "cell_type": "code",
   "execution_count": 19,
   "id": "c0281ead",
   "metadata": {},
   "outputs": [
    {
     "name": "stdout",
     "output_type": "stream",
     "text": [
      "{4, 7, 42, 'the number 4', 'lizards', 'dogs', 'man I just LOVE the number 4'} <class 'set'>\n"
     ]
    }
   ],
   "source": [
    "\n",
    "things_i_like = {'dogs', 7, 'the number 4', 4, 4, 4, 42, 'lizards', 'man I just LOVE the number 4'}\n",
    "print (things_i_like, type(things_i_like))"
   ]
  },
  {
   "cell_type": "code",
   "execution_count": 20,
   "id": "14b4a7e0",
   "metadata": {},
   "outputs": [],
   "source": [
    "\n",
    "animal_list = ['cats', 'dogs', 'dogs', 'dogs', 'lizards', 'sponges', 'cows', 'bats', 'sponges']\n",
    "animal_set = set(animal_list)"
   ]
  },
  {
   "cell_type": "code",
   "execution_count": 21,
   "id": "e4e307a8",
   "metadata": {},
   "outputs": [
    {
     "name": "stdout",
     "output_type": "stream",
     "text": [
      "{'sponges', 4, 7, 42, 'the number 4', 'bats', 'dogs', 'lizards', 'cats', 'cows', 'man I just LOVE the number 4'}\n",
      "{'dogs', 'lizards'}\n"
     ]
    }
   ],
   "source": [
    "print (animal_set | things_i_like)\n",
    "print (animal_set & things_i_like)"
   ]
  },
  {
   "cell_type": "code",
   "execution_count": 22,
   "id": "0ab32598",
   "metadata": {},
   "outputs": [],
   "source": [
    "my_dict = {\"High Fantasy\": [\"Wheel of Time\", \"Lord of the Rings\"], \n",
    "           \"Sci-fi\": [\"Book of the New Sun\", \"Neuromancer\", \"Snow Crash\"],\n",
    "           \"Weird Fiction\": [\"At the Mountains of Madness\", \"The House on the Borderland\"]}"
   ]
  },
  {
   "cell_type": "code",
   "execution_count": 23,
   "id": "faae288f",
   "metadata": {},
   "outputs": [
    {
     "name": "stdout",
     "output_type": "stream",
     "text": [
      "['Book of the New Sun', 'Neuromancer', 'Snow Crash']\n"
     ]
    }
   ],
   "source": [
    "print (my_dict[\"Sci-fi\"])"
   ]
  },
  {
   "cell_type": "code",
   "execution_count": 24,
   "id": "06453e5d",
   "metadata": {},
   "outputs": [
    {
     "name": "stdout",
     "output_type": "stream",
     "text": [
      "I can't read\n"
     ]
    }
   ],
   "source": [
    "my_dict[\"Sci-fi\"] = \"I can't read\"\n",
    "print (my_dict[\"Sci-fi\"])"
   ]
  },
  {
   "cell_type": "code",
   "execution_count": 25,
   "id": "c9b606e0",
   "metadata": {},
   "outputs": [
    {
     "name": "stdout",
     "output_type": "stream",
     "text": [
      "['Pillars of the Earth']\n"
     ]
    }
   ],
   "source": [
    "\n",
    "my_dict[\"Historical Fiction\"] = [\"Pillars of the Earth\"]\n",
    "print (my_dict[\"Historical Fiction\"])"
   ]
  },
  {
   "cell_type": "code",
   "execution_count": null,
   "id": "3383379a",
   "metadata": {},
   "outputs": [],
   "source": []
  }
 ],
 "metadata": {
  "kernelspec": {
   "display_name": "Python 3",
   "language": "python",
   "name": "python3"
  },
  "language_info": {
   "codemirror_mode": {
    "name": "ipython",
    "version": 3
   },
   "file_extension": ".py",
   "mimetype": "text/x-python",
   "name": "python",
   "nbconvert_exporter": "python",
   "pygments_lexer": "ipython3",
   "version": "3.8.8"
  }
 },
 "nbformat": 4,
 "nbformat_minor": 5
}
