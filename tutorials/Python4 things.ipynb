{
 "cells": [
  {
   "cell_type": "code",
   "execution_count": 8,
   "id": "45b433c4",
   "metadata": {},
   "outputs": [
    {
     "name": "stdout",
     "output_type": "stream",
     "text": [
      "['friends', 'countrymen', 'me', 'ears']\n"
     ]
    }
   ],
   "source": [
    "my_list = ['friends', 'romans', 'countrymen', 'lend', 'me', 'your', 'ears']\n",
    "# print list from 0 to 7 with step 2\n",
    "print(my_list[0:7:2])"
   ]
  },
  {
   "cell_type": "code",
   "execution_count": 9,
   "id": "2da451f7",
   "metadata": {},
   "outputs": [
    {
     "name": "stdout",
     "output_type": "stream",
     "text": [
      "['ears', 'your', 'me', 'lend', 'countrymen', 'romans', 'friends']\n"
     ]
    }
   ],
   "source": [
    "print(my_list[::-1])"
   ]
  },
  {
   "cell_type": "code",
   "execution_count": 13,
   "id": "cdbc91a7",
   "metadata": {},
   "outputs": [
    {
     "name": "stdout",
     "output_type": "stream",
     "text": [
      "('I', 'have', 30, 'cats')\n"
     ]
    }
   ],
   "source": [
    "my_tuple = ('I', 'have', 30, 'cats')\n",
    "print( my_tuple)"
   ]
  },
  {
   "cell_type": "code",
   "execution_count": 16,
   "id": "0a5dd91d",
   "metadata": {},
   "outputs": [
    {
     "data": {
      "text/plain": [
       "('have', 30)"
      ]
     },
     "execution_count": 16,
     "metadata": {},
     "output_type": "execute_result"
    }
   ],
   "source": [
    "my_tuple[1:3]"
   ]
  },
  {
   "cell_type": "code",
   "execution_count": 17,
   "id": "487a989e",
   "metadata": {},
   "outputs": [
    {
     "name": "stdout",
     "output_type": "stream",
     "text": [
      "('I', 'have', 30, 'cats', 'make', 'that', 50)\n"
     ]
    }
   ],
   "source": [
    "my_other_tuple = ('make', 'that', 50)\n",
    "print (my_tuple + my_other_tuple)"
   ]
  },
  {
   "cell_type": "code",
   "execution_count": 18,
   "id": "53878660",
   "metadata": {},
   "outputs": [
    {
     "name": "stdout",
     "output_type": "stream",
     "text": [
      "make that 50\n"
     ]
    }
   ],
   "source": [
    "str_1, str_2, int_1 = my_other_tuple\n",
    "print (str_1, str_2, int_1)"
   ]
  },
  {
   "cell_type": "code",
   "execution_count": 19,
   "id": "c0281ead",
   "metadata": {},
   "outputs": [
    {
     "name": "stdout",
     "output_type": "stream",
     "text": [
      "{4, 7, 42, 'the number 4', 'lizards', 'dogs', 'man I just LOVE the number 4'} <class 'set'>\n"
     ]
    }
   ],
   "source": [
    "\n",
    "things_i_like = {'dogs', 7, 'the number 4', 4, 4, 4, 42, 'lizards', 'man I just LOVE the number 4'}\n",
    "print (things_i_like, type(things_i_like))"
   ]
  },
  {
   "cell_type": "code",
   "execution_count": 20,
   "id": "14b4a7e0",
   "metadata": {},
   "outputs": [],
   "source": [
    "\n",
    "animal_list = ['cats', 'dogs', 'dogs', 'dogs', 'lizards', 'sponges', 'cows', 'bats', 'sponges']\n",
    "animal_set = set(animal_list)"
   ]
  },
  {
   "cell_type": "code",
   "execution_count": 21,
   "id": "e4e307a8",
   "metadata": {},
   "outputs": [
    {
     "name": "stdout",
     "output_type": "stream",
     "text": [
      "{'sponges', 4, 7, 42, 'the number 4', 'bats', 'dogs', 'lizards', 'cats', 'cows', 'man I just LOVE the number 4'}\n",
      "{'dogs', 'lizards'}\n"
     ]
    }
   ],
   "source": [
    "print (animal_set | things_i_like)\n",
    "print (animal_set & things_i_like)"
   ]
  },
  {
   "cell_type": "code",
   "execution_count": 22,
   "id": "0ab32598",
   "metadata": {},
   "outputs": [],
   "source": [
    "my_dict = {\"High Fantasy\": [\"Wheel of Time\", \"Lord of the Rings\"], \n",
    "           \"Sci-fi\": [\"Book of the New Sun\", \"Neuromancer\", \"Snow Crash\"],\n",
    "           \"Weird Fiction\": [\"At the Mountains of Madness\", \"The House on the Borderland\"]}"
   ]
  },
  {
   "cell_type": "code",
   "execution_count": 23,
   "id": "faae288f",
   "metadata": {},
   "outputs": [
    {
     "name": "stdout",
     "output_type": "stream",
     "text": [
      "['Book of the New Sun', 'Neuromancer', 'Snow Crash']\n"
     ]
    }
   ],
   "source": [
    "print (my_dict[\"Sci-fi\"])"
   ]
  },
  {
   "cell_type": "code",
   "execution_count": 24,
   "id": "06453e5d",
   "metadata": {},
   "outputs": [
    {
     "name": "stdout",
     "output_type": "stream",
     "text": [
      "I can't read\n"
     ]
    }
   ],
   "source": [
    "my_dict[\"Sci-fi\"] = \"I can't read\"\n",
    "print (my_dict[\"Sci-fi\"])"
   ]
  },
  {
   "cell_type": "code",
   "execution_count": 25,
   "id": "c9b606e0",
   "metadata": {},
   "outputs": [
    {
     "name": "stdout",
     "output_type": "stream",
     "text": [
      "['Pillars of the Earth']\n"
     ]
    }
   ],
   "source": [
    "\n",
    "my_dict[\"Historical Fiction\"] = [\"Pillars of the Earth\"]\n",
    "print (my_dict[\"Historical Fiction\"])"
   ]
  },
  {
   "cell_type": "code",
   "execution_count": 49,
   "id": "3383379a",
   "metadata": {},
   "outputs": [],
   "source": [
    "import numpy as np\n",
    "import matplotlib.pyplot as plt\n",
    "N = 10\n",
    "# This is the creation of an array of zeros 10 X 100 array\n",
    "assets = np.zeros((N, 100))\n",
    "returns = np.zeros((N, 100))\n"
   ]
  },
  {
   "cell_type": "code",
   "execution_count": 50,
   "id": "47a9f60f",
   "metadata": {},
   "outputs": [],
   "source": [
    "R_1 = np.random.normal(1.01, 0.03, 100)\n",
    "returns[0] = R_1\n",
    "assets[0] = np.cumprod(R_1)"
   ]
  },
  {
   "cell_type": "code",
   "execution_count": 51,
   "id": "5cb41a40",
   "metadata": {},
   "outputs": [],
   "source": [
    "# Generate assets that are correlated with R_1\n",
    "for i in range(1, N):\n",
    "    R_i = R_1 + np.random.normal(0.001, 0.02, 100)\n",
    "    returns[i] = R_i # Set each row of returns equal to the new R_i array\n",
    "    assets[i] = np.cumprod(R_i)"
   ]
  },
  {
   "cell_type": "code",
   "execution_count": 52,
   "id": "92820e7f",
   "metadata": {},
   "outputs": [
    {
     "data": {
      "text/plain": [
       "array([[1.08103067, 0.99458774, 0.95557483, 0.9857753 , 0.95887298,\n",
       "        1.00443588, 1.00857104, 1.01728569, 1.00888271, 0.99325947,\n",
       "        0.99049494, 1.00745062, 1.05352246, 0.95820111, 1.00148099,\n",
       "        0.98439988, 1.00156474, 1.09603861, 1.02049195, 1.01128205,\n",
       "        0.97522605, 1.01732107, 1.03277119, 1.02428413, 0.93178582,\n",
       "        0.98274832, 0.9853812 , 1.02929622, 1.01379904, 1.01801728,\n",
       "        1.0397867 , 1.04746725, 1.02346789, 0.99316529, 1.04822222,\n",
       "        1.00005528, 1.03719148, 0.97732485, 1.02189187, 1.00760682,\n",
       "        1.0255187 , 1.02297051, 1.00742042, 1.01817842, 0.95320643,\n",
       "        1.02153681, 1.01832438, 1.0048308 , 1.00897006, 1.01987061,\n",
       "        1.03587411, 1.05090601, 1.03070673, 1.03347192, 1.00630727,\n",
       "        1.06741558, 1.00653732, 1.02243069, 1.07004858, 1.04829311,\n",
       "        1.00692455, 1.03768205, 1.0610886 , 1.03378709, 0.96755349,\n",
       "        1.04415187, 1.01980584, 1.03710244, 1.00672476, 0.97292451,\n",
       "        1.01793751, 1.01226845, 1.02338049, 1.03677943, 1.02207742,\n",
       "        1.02521221, 0.97702155, 0.99522983, 0.96461074, 1.00331803,\n",
       "        1.00774858, 1.01446927, 1.01787349, 1.02036554, 1.0078114 ,\n",
       "        0.99316686, 0.9816975 , 1.00471943, 0.99713064, 1.05436677,\n",
       "        1.01924148, 0.980079  , 1.03413189, 1.03576026, 1.01559958,\n",
       "        1.03530697, 1.02678232, 1.0855795 , 1.03149781, 0.98112377],\n",
       "       [1.07823449, 1.00700935, 0.97902145, 0.98561495, 0.92034907,\n",
       "        1.02144666, 1.00334077, 1.02786729, 0.99898688, 1.02396284,\n",
       "        0.99737462, 1.00408824, 1.08397064, 0.93920346, 0.97822929,\n",
       "        0.96783293, 1.02613964, 1.09408195, 1.02927575, 1.00781989,\n",
       "        0.96070423, 1.01929096, 1.01831873, 1.03846868, 0.89207398,\n",
       "        0.97416842, 0.97465352, 1.04082986, 1.0182151 , 1.01907483,\n",
       "        1.07953529, 1.06968687, 1.02603698, 1.00430341, 1.0580744 ,\n",
       "        1.00750143, 1.06314785, 1.00075274, 1.04007815, 1.0240034 ,\n",
       "        1.01715905, 1.0505455 , 1.02795473, 1.02831247, 0.96816448,\n",
       "        1.04263509, 1.0036131 , 0.98540641, 0.9795624 , 1.02365765,\n",
       "        1.00822345, 1.03880338, 0.98966047, 1.0378184 , 1.01848238,\n",
       "        1.06127136, 1.00388354, 0.99358222, 1.09823067, 1.07693935,\n",
       "        1.01689069, 0.99792506, 1.04837992, 1.02890722, 0.96144779,\n",
       "        1.02079893, 1.03171721, 1.03278911, 0.97614407, 0.95648211,\n",
       "        0.96608722, 0.97363849, 1.02040045, 1.03561229, 0.99380596,\n",
       "        1.03849788, 0.97152338, 0.97848533, 0.93916458, 1.01964662,\n",
       "        0.97879309, 1.01580821, 1.00988043, 1.05241557, 1.01112526,\n",
       "        1.03813554, 0.94971606, 1.01235405, 0.99514495, 1.0533607 ,\n",
       "        1.01345287, 0.97545989, 1.01094641, 1.07781265, 1.00076773,\n",
       "        1.05443508, 1.03400199, 1.06565837, 1.05794772, 0.97089082],\n",
       "       [1.08640639, 0.99809613, 0.9810861 , 1.00474797, 0.9658137 ,\n",
       "        1.00686763, 0.99431504, 1.00767976, 0.99525072, 0.99853714,\n",
       "        0.97593803, 1.00525303, 1.0556899 , 0.96662786, 0.9772982 ,\n",
       "        0.98139484, 1.0228988 , 1.09525198, 0.99187657, 0.99844558,\n",
       "        0.96379165, 1.0043507 , 1.06069726, 1.03221163, 0.92245914,\n",
       "        1.02135011, 0.99817067, 1.04928253, 1.00439147, 1.02570285,\n",
       "        1.03394971, 1.06902789, 1.04337718, 0.96119032, 1.04547264,\n",
       "        0.99117153, 1.00283296, 0.96726351, 1.01281663, 0.99331758,\n",
       "        1.04445325, 1.04341244, 1.02112669, 0.99218086, 0.90636573,\n",
       "        1.03469786, 1.0068167 , 1.01315477, 1.04983536, 1.00360642,\n",
       "        1.04847222, 1.0394985 , 1.02450088, 1.06294495, 1.00354024,\n",
       "        1.05046004, 0.99210497, 1.05134417, 1.05396365, 1.06958185,\n",
       "        1.02992277, 1.07167919, 1.08514788, 1.04461003, 0.95446421,\n",
       "        1.02910364, 1.03920628, 1.01988963, 0.98640588, 0.99936033,\n",
       "        1.01391082, 1.0391986 , 0.99352965, 1.02326226, 1.04192604,\n",
       "        1.0175679 , 0.99917789, 0.98577614, 0.99242021, 1.03543095,\n",
       "        1.01007757, 0.98887362, 0.99240305, 1.02207259, 1.0147502 ,\n",
       "        1.01114511, 0.98986357, 0.98779846, 0.98358132, 1.03146201,\n",
       "        1.0228637 , 0.95460832, 1.00895216, 1.02055182, 0.98863418,\n",
       "        1.05212041, 1.02761347, 1.0749201 , 1.05363101, 0.98236701],\n",
       "       [1.09784879, 1.00256164, 0.983572  , 0.97680279, 0.95752131,\n",
       "        1.00624429, 1.02425262, 1.02593414, 0.98091097, 0.96931455,\n",
       "        0.98306745, 1.00083377, 1.03095411, 0.95211557, 1.02259883,\n",
       "        0.99284455, 0.991321  , 1.14975337, 1.01414227, 1.00430625,\n",
       "        0.97375774, 1.02013339, 1.01164544, 1.02238047, 0.93552126,\n",
       "        0.97846434, 0.96832482, 1.00815171, 1.04314934, 1.04753021,\n",
       "        1.0021697 , 1.08620053, 1.06263656, 1.0141688 , 1.04815443,\n",
       "        0.98027659, 0.9956036 , 0.95414852, 1.01262669, 0.97855319,\n",
       "        0.98592163, 1.0303321 , 1.01599909, 1.01722869, 0.94325149,\n",
       "        1.06402236, 0.98557865, 1.00802393, 1.04557518, 1.04734916,\n",
       "        1.03475472, 1.03614388, 1.06071912, 1.02438668, 1.02444918,\n",
       "        1.04896811, 1.00056022, 0.98777815, 1.07511396, 1.02935799,\n",
       "        1.01086256, 1.02813645, 1.04840531, 1.0251155 , 0.99277044,\n",
       "        1.0571803 , 1.03925599, 1.02369558, 0.97979899, 0.98489137,\n",
       "        1.03980988, 1.04083248, 1.03355391, 1.0276278 , 1.01978888,\n",
       "        1.02513708, 0.97750579, 0.99328803, 0.96632418, 0.97869268,\n",
       "        1.00751908, 1.05340763, 1.01477404, 1.03490284, 1.00568918,\n",
       "        0.99706094, 0.98424502, 1.01299248, 1.01676416, 1.02017628,\n",
       "        1.00498736, 0.9970791 , 0.9870323 , 1.03908424, 1.0362746 ,\n",
       "        0.99513641, 1.01300459, 1.07636264, 1.05670352, 0.936721  ],\n",
       "       [1.04698358, 0.99737739, 0.92625612, 0.96341605, 0.98588088,\n",
       "        0.95536868, 0.99912671, 1.00413247, 1.0150605 , 0.99540989,\n",
       "        0.98680285, 1.02090528, 1.04137917, 0.95644883, 1.04215588,\n",
       "        1.00349908, 0.97046853, 1.09418793, 1.01144261, 1.04291287,\n",
       "        1.03659248, 1.00562813, 1.02470104, 1.05030107, 0.93730432,\n",
       "        0.95782261, 0.99809868, 1.01827161, 1.06290696, 1.03876858,\n",
       "        1.02351066, 1.04624417, 1.01431612, 0.97780746, 1.04479392,\n",
       "        0.99709773, 1.06694696, 0.94707904, 1.03664889, 1.01982932,\n",
       "        1.0202552 , 1.0490388 , 1.01349179, 1.02205047, 0.94183644,\n",
       "        1.025768  , 1.01488279, 1.01671017, 1.05742396, 1.02571564,\n",
       "        1.01404478, 1.04812729, 1.01018579, 1.01396618, 1.01056306,\n",
       "        1.08728469, 0.98428891, 1.02340961, 1.08053399, 1.02893772,\n",
       "        1.00941597, 1.05707062, 1.06186462, 1.02735993, 0.94399415,\n",
       "        0.99409847, 1.0340063 , 1.0542454 , 1.05321831, 1.00354075,\n",
       "        1.02798545, 1.04893759, 1.04208889, 1.07742837, 1.01669429,\n",
       "        1.06301046, 0.99550197, 0.95135575, 0.9654524 , 0.99663874,\n",
       "        1.01545477, 1.01736877, 1.03634745, 0.98909495, 1.06409682,\n",
       "        1.02169858, 1.02316305, 1.00512183, 1.01334637, 1.02650867,\n",
       "        1.00733077, 0.99058189, 1.02645963, 1.033147  , 0.99923455,\n",
       "        1.04029459, 1.05271352, 1.07441564, 1.03650069, 0.98171584],\n",
       "       [1.03538522, 0.98653735, 0.97376446, 0.95958036, 0.96293313,\n",
       "        0.9821111 , 1.0430002 , 1.03477778, 1.01295792, 0.97931876,\n",
       "        0.97997417, 0.99592138, 1.05884263, 0.98572002, 0.96172193,\n",
       "        0.9938751 , 0.98707667, 1.07266736, 1.03965869, 1.01877292,\n",
       "        0.96722244, 1.02066121, 1.03237979, 1.00806855, 0.94908543,\n",
       "        0.99076303, 0.98458119, 1.00282415, 0.99992641, 1.0471507 ,\n",
       "        1.03956952, 1.04584605, 1.03513033, 0.99651945, 1.04600931,\n",
       "        1.02148776, 1.05169888, 0.98236438, 1.03701941, 1.03883187,\n",
       "        1.04497287, 1.02349926, 0.98712209, 1.05065189, 0.9437823 ,\n",
       "        1.03584133, 0.997005  , 0.98220361, 1.00140925, 0.99697543,\n",
       "        1.03132115, 1.04338651, 1.03302644, 1.01614071, 1.05236627,\n",
       "        1.10511922, 1.04175385, 1.0434964 , 1.06106592, 1.0474505 ,\n",
       "        1.03791448, 1.06694025, 1.06174709, 1.00737687, 0.94515207,\n",
       "        1.06562616, 1.04369754, 1.01610951, 1.02379159, 0.98131497,\n",
       "        1.01870127, 1.02194288, 1.00789677, 1.00406865, 1.03895025,\n",
       "        1.00625402, 0.9477614 , 1.00684372, 0.98732207, 1.00473857,\n",
       "        1.02232725, 1.01551702, 1.03191967, 1.00572127, 1.00389543,\n",
       "        0.99436344, 0.99834882, 1.01773284, 0.99534609, 1.04653011,\n",
       "        0.9827075 , 0.9940036 , 1.06144783, 1.09195051, 1.03259647,\n",
       "        1.05436661, 1.01803277, 1.05513456, 1.02424571, 0.97246777],\n",
       "       [1.09705878, 1.00265376, 0.93712572, 1.00750379, 0.98483874,\n",
       "        1.00277227, 1.04082459, 1.00344642, 1.0036282 , 1.01060848,\n",
       "        0.95359719, 1.02051051, 1.03460478, 0.99808836, 1.01856269,\n",
       "        0.97599793, 1.00723265, 1.12810532, 1.0022137 , 1.0261345 ,\n",
       "        0.95103326, 1.02414087, 1.0201016 , 1.0378839 , 0.95663556,\n",
       "        0.98957616, 1.00198199, 1.02480934, 0.99853828, 0.98536264,\n",
       "        1.00848141, 1.04238589, 0.998849  , 0.9833917 , 1.04806818,\n",
       "        1.00853843, 1.04660224, 0.9974348 , 1.01304336, 0.98783561,\n",
       "        1.02492021, 1.0454128 , 0.99073166, 1.10182999, 0.95401342,\n",
       "        1.02589036, 1.06994756, 1.01232316, 1.00641108, 0.97441458,\n",
       "        1.02194891, 1.06668159, 1.00038707, 1.07149582, 1.00482285,\n",
       "        1.06010517, 0.99959897, 1.02519274, 1.10944403, 1.03159825,\n",
       "        0.97617038, 1.02034406, 1.08462795, 1.0259713 , 0.96410289,\n",
       "        1.07283317, 1.03157365, 1.04609825, 0.95955661, 0.95839624,\n",
       "        1.02247663, 0.99806639, 1.0371327 , 1.04919452, 1.04423015,\n",
       "        1.01709385, 1.00922373, 1.05506097, 0.97273317, 1.00537768,\n",
       "        1.00930929, 1.01125784, 1.00164371, 1.03698274, 1.02859292,\n",
       "        1.00699973, 0.97529432, 1.02559852, 1.00258384, 1.03907348,\n",
       "        1.03159464, 0.98722905, 1.0391968 , 1.05659261, 1.04021422,\n",
       "        1.05424595, 1.03825221, 1.09998339, 0.99837855, 1.00069935],\n",
       "       [1.07864024, 0.98410287, 0.93827886, 0.98170846, 0.96624968,\n",
       "        0.99025079, 0.97107597, 1.00614925, 1.05357633, 0.95523783,\n",
       "        0.99112047, 0.99350914, 1.07796674, 0.96072297, 1.02339339,\n",
       "        0.95407835, 1.0236681 , 1.07370979, 1.01340305, 0.99909778,\n",
       "        0.98617665, 1.04236371, 1.0325946 , 1.00145504, 0.93481808,\n",
       "        0.95328683, 0.96666463, 1.02214198, 1.00196661, 1.01468171,\n",
       "        1.03498201, 1.08292835, 1.05054137, 0.99208642, 1.01554982,\n",
       "        1.0133459 , 1.03802216, 0.97809473, 1.0112776 , 1.00277924,\n",
       "        0.98814162, 1.00013572, 1.03320246, 1.02417926, 0.9485123 ,\n",
       "        1.02795366, 1.00919377, 0.97216133, 0.99076057, 1.03996788,\n",
       "        1.06095902, 1.06415903, 1.02610671, 1.05388375, 1.02674821,\n",
       "        1.04977139, 1.01892747, 1.02859219, 1.02796612, 1.06107745,\n",
       "        0.96205225, 1.05536801, 1.0841324 , 1.05804638, 0.96637319,\n",
       "        1.05429622, 1.02092802, 1.04287151, 1.00062684, 0.97705282,\n",
       "        0.99684796, 1.00880335, 1.00648513, 1.05928653, 1.01884712,\n",
       "        1.02565225, 1.01867698, 1.0015744 , 0.9985805 , 1.02503889,\n",
       "        1.03118035, 1.02067959, 1.05824331, 1.05439501, 1.02876101,\n",
       "        0.97293716, 0.95943474, 1.01918428, 1.00405659, 1.0477252 ,\n",
       "        1.01468452, 0.97504126, 1.05083069, 1.04479208, 1.05498267,\n",
       "        1.0244961 , 1.07040143, 1.07448458, 1.01738175, 0.97391024],\n",
       "       [1.08334327, 0.99681999, 0.94600816, 0.9925987 , 0.96988129,\n",
       "        1.0062654 , 1.03992912, 1.03651973, 0.99403381, 0.99131391,\n",
       "        1.00022284, 1.02123907, 1.04315679, 0.97597038, 1.01194385,\n",
       "        0.95557591, 1.01063491, 1.08316895, 1.05519244, 1.03499113,\n",
       "        0.97811964, 1.00286848, 1.08170597, 1.06105109, 0.95020726,\n",
       "        0.97281918, 0.98710707, 0.99439228, 1.02795094, 1.01559441,\n",
       "        1.01662839, 0.99965553, 1.03842357, 0.98316641, 1.06421246,\n",
       "        1.00238442, 1.02914452, 0.98384228, 1.03818155, 0.99637424,\n",
       "        1.02777348, 1.02902546, 1.01946139, 1.02203745, 0.94998774,\n",
       "        0.98682884, 1.02830374, 0.99339401, 1.00990666, 1.04784439,\n",
       "        0.99805271, 1.04934133, 1.00933268, 1.04458528, 1.00905423,\n",
       "        1.08311325, 0.97997368, 1.0190223 , 1.07361851, 1.04168495,\n",
       "        0.98976163, 1.04272831, 1.05808952, 1.0519857 , 0.93195201,\n",
       "        1.04782694, 1.01477606, 0.99943348, 0.98247804, 0.97621424,\n",
       "        1.02975573, 0.99300908, 0.99109114, 1.05033997, 1.03778757,\n",
       "        1.02307272, 0.9762335 , 1.02426259, 0.97837186, 1.00692306,\n",
       "        1.02508279, 1.00490067, 0.97510849, 1.02770382, 1.02147324,\n",
       "        1.00054867, 0.97495429, 1.00680991, 0.98822072, 1.01910142,\n",
       "        1.02215929, 0.95874351, 1.02194556, 1.08390967, 0.98332134,\n",
       "        1.07909365, 1.00891229, 1.1398067 , 1.02620579, 0.99045765],\n",
       "       [1.06122739, 0.96662775, 0.944418  , 0.96058814, 0.97136177,\n",
       "        1.01395096, 0.98806984, 1.03899895, 1.01667989, 1.01177374,\n",
       "        0.97555486, 1.02687133, 1.0458853 , 0.92094071, 1.01947654,\n",
       "        0.98366719, 1.02628788, 1.07049724, 1.01656258, 1.03619662,\n",
       "        0.9549299 , 1.00353493, 1.04296177, 1.00409461, 0.94220686,\n",
       "        0.99667786, 0.99844891, 1.05548107, 1.04423836, 1.01686219,\n",
       "        1.03968417, 1.04235019, 1.01300757, 0.95717396, 1.05212273,\n",
       "        0.99113608, 1.02893734, 0.99758179, 1.00620736, 1.03120387,\n",
       "        1.0211627 , 1.05047076, 1.00392591, 1.01988813, 0.96354509,\n",
       "        1.01166386, 1.04409858, 1.01648477, 1.02583374, 1.02649554,\n",
       "        1.06236118, 1.01634693, 1.03712175, 1.04028037, 1.00513597,\n",
       "        1.03562865, 1.01242296, 1.04574185, 1.0467901 , 1.08761124,\n",
       "        1.0230799 , 1.01084095, 1.07388822, 1.01511602, 0.97233469,\n",
       "        1.06550995, 1.01875384, 1.03184205, 1.01990023, 0.94928991,\n",
       "        0.98840282, 1.02517064, 1.0110708 , 1.03125617, 1.02335832,\n",
       "        1.05051   , 0.95506103, 0.99384697, 0.9451117 , 1.00090034,\n",
       "        1.04729622, 1.04073642, 1.02155967, 1.03281656, 1.01222244,\n",
       "        1.0139505 , 0.99346326, 1.01104956, 1.02313109, 1.04795059,\n",
       "        1.05139631, 0.9809348 , 1.02286748, 1.03729819, 1.04221479,\n",
       "        1.04195996, 1.05196211, 1.07913836, 1.04221042, 1.00937865]])"
      ]
     },
     "execution_count": 52,
     "metadata": {},
     "output_type": "execute_result"
    }
   ],
   "source": [
    "mean_returns = [(np.mean(R) - 1)*100 for R in returns]\n",
    "return_volatilities = [np.std(R) for R in returns]"
   ]
  },
  {
   "cell_type": "code",
   "execution_count": 53,
   "id": "2aa624d2",
   "metadata": {},
   "outputs": [
    {
     "data": {
      "image/png": "[encoded data removed]",
      "text/plain": [
       "<Figure size 432x288 with 1 Axes>"
      ]
     },
     "metadata": {
      "needs_background": "light"
     },
     "output_type": "display_data"
    }
   ],
   "source": [
    "plt.bar(np.arange(len(mean_returns)), mean_returns)\n",
    "plt.xlabel('Stock')\n",
    "plt.ylabel('Returns')\n",
    "plt.title('Returns for {0} Random Assets'.format(N));"
   ]
  },
  {
   "cell_type": "code",
   "execution_count": 54,
   "id": "81d20af1",
   "metadata": {},
   "outputs": [],
   "source": [
    "weights = np.random.uniform(0, 1, N)\n",
    "weights = weights/np.sum(weights)"
   ]
  },
  {
   "cell_type": "code",
   "execution_count": 56,
   "id": "e95f2e8d",
   "metadata": {},
   "outputs": [
    {
     "name": "stdout",
     "output_type": "stream",
     "text": [
      "Expected return of the portfolio:  1.5101830165461123\n"
     ]
    }
   ],
   "source": [
    "p_returns = np.dot(weights, mean_returns)\n",
    "print( \"Expected return of the portfolio: \", p_returns)"
   ]
  },
  {
   "cell_type": "code",
   "execution_count": null,
   "id": "066f8aba",
   "metadata": {},
   "outputs": [],
   "source": []
  }
 ],
 "metadata": {
  "kernelspec": {
   "display_name": "Python 3",
   "language": "python",
   "name": "python3"
  },
  "language_info": {
   "codemirror_mode": {
    "name": "ipython",
    "version": 3
   },
   "file_extension": ".py",
   "mimetype": "text/x-python",
   "name": "python",
   "nbconvert_exporter": "python",
   "pygments_lexer": "ipython3",
   "version": "3.8.8"
  }
 },
 "nbformat": 4,
 "nbformat_minor": 5
}
